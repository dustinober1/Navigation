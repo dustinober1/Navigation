{
 "cells": [
  {
   "cell_type": "markdown",
   "metadata": {},
   "source": [
    "import numpy as np\n",
    "import torch\n",
    "import matplotlib.pyplot as plt\n",
    "from collections import deque\n",
    "from unityagents import UnityEnvironment\n",
    "\n",
    "# Import our modules\n",
    "import sys\n",
    "import os\n",
    "sys.path.append('..')\n",
    "\n",
    "from src.navigation.agents import Agent\n",
    "from src.navigation.models import QNetwork\n",
    "from src.navigation.buffers import ReplayBuffer\n",
    "from src.navigation import config\n",
    "\n",
    "%matplotlib inline"
   ]
  },
  {
   "cell_type": "markdown",
   "metadata": {},
   "source": [
    "## 1. Import Dependencies"
   ]
  },
  {
   "cell_type": "code",
   "execution_count": 1,
   "metadata": {},
   "outputs": [],
   "source": [
    "import numpy as np\n",
    "import torch\n",
    "import matplotlib.pyplot as plt\n",
    "from collections import deque\n",
    "\n",
    "# Mock Unity environment for testing\n",
    "class MockUnityEnvironment:\n",
    "    def __init__(self, file_name=None):\n",
    "        self.brain_names = ['NavigationBrain']\n",
    "        self.brains = {'NavigationBrain': MockBrain()}\n",
    "        \n",
    "    def reset(self, train_mode=True):\n",
    "        return {'NavigationBrain': MockEnvInfo()}\n",
    "    \n",
    "    def step(self, action):\n",
    "        return {'NavigationBrain': MockEnvInfo(reward=np.random.random() - 0.5)}\n",
    "    \n",
    "    def close(self):\n",
    "        pass\n",
    "\n",
    "class MockBrain:\n",
    "    def __init__(self):\n",
    "        self.vector_action_space_size = 4  # 4 actions for navigation\n",
    "\n",
    "class MockEnvInfo:\n",
    "    def __init__(self, reward=0.0):\n",
    "        self.vector_observations = [np.random.random(37)]  # 37-dimensional state\n",
    "        self.rewards = [reward]\n",
    "        self.local_done = [False]\n",
    "        self.agents = ['agent_0']\n",
    "\n",
    "# Import our modules\n",
    "import sys\n",
    "import os\n",
    "sys.path.append('..')\n",
    "\n",
    "from src.navigation.agents import Agent\n",
    "from src.navigation.models import QNetwork\n",
    "from src.navigation.buffers import ReplayBuffer\n",
    "from src.navigation import config\n",
    "\n",
    "%matplotlib inline"
   ]
  },
  {
   "cell_type": "markdown",
   "metadata": {},
   "source": [
    "## 2. Initialize Environment"
   ]
  },
  {
   "cell_type": "code",
   "execution_count": 2,
   "metadata": {},
   "outputs": [
    {
     "name": "stdout",
     "output_type": "stream",
     "text": [
      "Number of agents: 1\n",
      "State size: 37\n",
      "Action size: 4\n"
     ]
    }
   ],
   "source": [
    "# Initialize the environment (using mock for testing)\n",
    "env = MockUnityEnvironment()\n",
    "\n",
    "# Get the default brain\n",
    "brain_name = env.brain_names[0]\n",
    "brain = env.brains[brain_name]\n",
    "\n",
    "# Reset the environment\n",
    "env_info = env.reset(train_mode=True)[brain_name]\n",
    "\n",
    "# Get environment dimensions\n",
    "state_size = len(env_info.vector_observations[0])\n",
    "action_size = brain.vector_action_space_size\n",
    "\n",
    "print(f'Number of agents: {len(env_info.agents)}')\n",
    "print(f'State size: {state_size}')\n",
    "print(f'Action size: {action_size}')"
   ]
  },
  {
   "cell_type": "markdown",
   "metadata": {},
   "source": [
    "## 3. Initialize Agent"
   ]
  },
  {
   "cell_type": "code",
   "execution_count": 3,
   "metadata": {},
   "outputs": [
    {
     "name": "stdout",
     "output_type": "stream",
     "text": [
      "Agent initialized with:\n",
      "  State size: 37\n",
      "  Action size: 4\n",
      "  Learning rate: 0.0005\n",
      "  Buffer size: 100000\n",
      "  Batch size: 64\n"
     ]
    }
   ],
   "source": [
    "# Create the agent\n",
    "agent = Agent(state_size=state_size, action_size=action_size, seed=config.SEED)\n",
    "print(f\"Agent initialized with:\")\n",
    "print(f\"  State size: {state_size}\")\n",
    "print(f\"  Action size: {action_size}\")\n",
    "print(f\"  Learning rate: {config.LEARNING_RATE}\")\n",
    "print(f\"  Buffer size: {config.BUFFER_SIZE}\")\n",
    "print(f\"  Batch size: {config.BATCH_SIZE}\")"
   ]
  },
  {
   "cell_type": "markdown",
   "metadata": {},
   "source": [
    "## 4. Training Function"
   ]
  },
  {
   "cell_type": "code",
   "execution_count": 4,
   "metadata": {},
   "outputs": [],
   "source": [
    "def train_agent(n_episodes=config.N_EPISODES, max_t=config.MAX_STEPS, \n",
    "                eps_start=config.EPS_START, eps_end=config.EPS_END, eps_decay=config.EPS_DECAY):\n",
    "    \"\"\"Train the DQN agent.\"\"\"\n",
    "    scores = []\n",
    "    scores_window = deque(maxlen=100)\n",
    "    eps = eps_start\n",
    "    \n",
    "    for i_episode in range(1, n_episodes+1):\n",
    "        env_info = env.reset(train_mode=True)[brain_name]\n",
    "        state = env_info.vector_observations[0]\n",
    "        score = 0\n",
    "        \n",
    "        for t in range(max_t):\n",
    "            action = agent.act(state, eps)\n",
    "            env_info = env.step(action)[brain_name]\n",
    "            next_state = env_info.vector_observations[0]\n",
    "            reward = env_info.rewards[0]\n",
    "            done = env_info.local_done[0]\n",
    "            \n",
    "            agent.step(state, action, reward, next_state, done)\n",
    "            state = next_state\n",
    "            score += reward\n",
    "            \n",
    "            if done:\n",
    "                break\n",
    "                \n",
    "        scores_window.append(score)\n",
    "        scores.append(score)\n",
    "        eps = max(eps_end, eps_decay*eps)\n",
    "        \n",
    "        print('\\rEpisode {}\\tAverage Score: {:.2f}'.format(i_episode, np.mean(scores_window)), end=\"\")\n",
    "        \n",
    "        if i_episode % 100 == 0:\n",
    "            print('\\rEpisode {}\\tAverage Score: {:.2f}'.format(i_episode, np.mean(scores_window)))\n",
    "            \n",
    "        if np.mean(scores_window) >= config.SOLVE_SCORE:\n",
    "            print('\\nEnvironment solved in {:d} episodes!\\tAverage Score: {:.2f}'.format(\n",
    "                i_episode-100, np.mean(scores_window)))\n",
    "            torch.save(agent.qnetwork_local.state_dict(), config.CHECKPOINT_PATH)\n",
    "            break\n",
    "            \n",
    "    return scores"
   ]
  },
  {
   "cell_type": "markdown",
   "metadata": {},
   "source": [
    "## 5. Train the Agent"
   ]
  },
  {
   "cell_type": "code",
   "execution_count": null,
   "metadata": {},
   "outputs": [
    {
     "name": "stdout",
     "output_type": "stream",
     "text": [
      "Episode 100\tAverage Score: -0.01\n",
      "Episode 200\tAverage Score: -1.41\n",
      "Episode 300\tAverage Score: 0.703\n",
      "Episode 400\tAverage Score: 0.91\n",
      "Episode 500\tAverage Score: 0.29\n",
      "Episode 600\tAverage Score: -1.35\n",
      "Episode 700\tAverage Score: 0.107\n",
      "Episode 800\tAverage Score: -0.11\n",
      "Episode 877\tAverage Score: 1.515"
     ]
    }
   ],
   "source": [
    "# Train the agent\n",
    "scores = train_agent()\n",
    "\n",
    "# Save the scores\n",
    "np.save(config.SCORES_PATH, scores)"
   ]
  },
  {
   "cell_type": "markdown",
   "metadata": {},
   "source": [
    "## 6. Plot Training Results"
   ]
  },
  {
   "cell_type": "code",
   "execution_count": null,
   "metadata": {},
   "outputs": [],
   "source": [
    "# Plot the scores\n",
    "fig = plt.figure(figsize=(10, 6))\n",
    "ax = fig.add_subplot(111)\n",
    "plt.plot(np.arange(len(scores)), scores)\n",
    "plt.ylabel('Score')\n",
    "plt.xlabel('Episode #')\n",
    "plt.title('DQN Training Progress')\n",
    "plt.grid(True)\n",
    "plt.show()"
   ]
  },
  {
   "cell_type": "markdown",
   "metadata": {},
   "source": [
    "## 7. Test the Trained Agent"
   ]
  },
  {
   "cell_type": "code",
   "execution_count": null,
   "metadata": {},
   "outputs": [],
   "source": [
    "def test_agent(num_episodes=5):\n",
    "    \"\"\"Test the trained agent.\"\"\"\n",
    "    # Load the trained weights\n",
    "    agent.qnetwork_local.load_state_dict(torch.load(config.CHECKPOINT_PATH))\n",
    "    \n",
    "    for i_episode in range(1, num_episodes+1):\n",
    "        env_info = env.reset(train_mode=False)[brain_name]\n",
    "        state = env_info.vector_observations[0]\n",
    "        score = 0\n",
    "        \n",
    "        while True:\n",
    "            action = agent.act(state, eps=0.)  # No exploration during testing\n",
    "            env_info = env.step(action)[brain_name]\n",
    "            next_state = env_info.vector_observations[0]\n",
    "            reward = env_info.rewards[0]\n",
    "            done = env_info.local_done[0]\n",
    "            score += reward\n",
    "            state = next_state\n",
    "            \n",
    "            if done:\n",
    "                break\n",
    "                \n",
    "        print(f\"Episode {i_episode}: Score = {score}\")\n",
    "\n",
    "# Test the trained agent\n",
    "test_agent()"
   ]
  },
  {
   "cell_type": "markdown",
   "metadata": {},
   "source": [
    "## 8. Close Environment"
   ]
  },
  {
   "cell_type": "code",
   "execution_count": null,
   "metadata": {},
   "outputs": [],
   "source": [
    "# Close the environment\n",
    "env.close()"
   ]
  }
 ],
 "metadata": {
  "kernelspec": {
   "display_name": "navigation",
   "language": "python",
   "name": "python3"
  },
  "language_info": {
   "codemirror_mode": {
    "name": "ipython",
    "version": 3
   },
   "file_extension": ".py",
   "mimetype": "text/x-python",
   "name": "python",
   "nbconvert_exporter": "python",
   "pygments_lexer": "ipython3",
   "version": "3.9.23"
  }
 },
 "nbformat": 4,
 "nbformat_minor": 4
}
